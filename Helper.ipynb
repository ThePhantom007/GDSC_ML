{
 "cells": [
  {
   "metadata": {},
   "cell_type": "markdown",
   "source": "# Making a correlation matrix to better understand the datasets",
   "id": "53ed5d04e749471d"
  },
  {
   "cell_type": "code",
   "id": "initial_id",
   "metadata": {
    "collapsed": true,
    "ExecuteTime": {
     "end_time": "2025-08-29T15:28:48.707825Z",
     "start_time": "2025-08-29T15:28:45.897821Z"
    }
   },
   "source": [
    "# Correlation analysis across MiNDAT.csv and MiNDAT_UNK.csv\n",
    "# - Computes a combined correlation matrix across both files (numeric columns)\n",
    "# - Shows correlation of each MiNDAT.csv column with CORRUCYSTIC_DENSITY\n",
    "\n",
    "\n",
    "import pandas as pd\n",
    "\n",
    "# Helpful display options (optional)\n",
    "pd.set_option(\"display.max_rows\", 200)\n",
    "pd.set_option(\"display.max_columns\", 200)\n",
    "pd.set_option(\"display.width\", 200)\n",
    "\n",
    "# 1) Load the two datasets\n",
    "\n",
    "# Adjust the paths if your CSVs live elsewhere\n",
    "path_mindat = \"MiNDAT.csv\"\n",
    "path_mindat_unk = \"MiNDAT_UNK.csv\"\n",
    "\n",
    "# Read with standard CSV parser; pandas will handle quoted fields and empty cells as NaN\n",
    "df_mindat = pd.read_csv(path_mindat)\n",
    "df_mindat_unk = pd.read_csv(path_mindat_unk)\n",
    "\n",
    "# Normalize column names a bit (strip surrounding whitespace)\n",
    "df_mindat.columns = df_mindat.columns.str.strip()\n",
    "df_mindat_unk.columns = df_mindat_unk.columns.str.strip()\n",
    "\n",
    "\n",
    "# 2) Make sure data are numeric where possible\n",
    "# - Attempt to convert non-numeric columns to numeric (coerce errors to NaN)\n",
    "# - Keep non-numeric columns as-is for reference\n",
    "\n",
    "\n",
    "def coerce_numeric(df: pd.DataFrame) -> pd.DataFrame:\n",
    "    out = df.copy()\n",
    "    for c in out.columns:\n",
    "        if out[c].dtype == object:\n",
    "            out[c] = pd.to_numeric(out[c], errors=\"coerce\")\n",
    "    return out\n",
    "\n",
    "\n",
    "df_mindat_num = coerce_numeric(df_mindat)\n",
    "df_mindat_unk_num = coerce_numeric(df_mindat_unk)\n",
    "\n",
    "# 3) Build a combined dataset (row-wise concat by column name) and compute Pearson correlation matrix\n",
    "\n",
    "combined_num = pd.concat(\n",
    "    [df_mindat_num, df_mindat_unk_num], ignore_index=True, sort=False\n",
    ")\n",
    "\n",
    "# Only numeric columns participate in correlation\n",
    "corr_all = combined_num.corr(numeric_only=True, method=\"pearson\")\n",
    "\n",
    "print(\"Combined correlation matrix shape:\", corr_all.shape)\n",
    "corr_all.head(10)\n",
    "\n",
    "# 4) Relationship of MiNDAT.csv columns to CORRUCYSTIC_DENSITY\n",
    "# - Compute Pearson correlation between every column in MiNDAT.csv and CORRUCYSTIC_DENSITY\n",
    "# - Include a simple direction label (positive vs negative)\n",
    "\n",
    "target_col = \"CORRUCYSTIC_DENSITY\"\n",
    "if target_col not in df_mindat_num.columns:\n",
    "    raise KeyError(f\"Column {target_col!r} not found in MiNDAT.csv\")\n",
    "\n",
    "corr_to_target = df_mindat_num.corr(numeric_only=True, method=\"pearson\")[\n",
    "    target_col\n",
    "].dropna()\n",
    "\n",
    "# Build a small summary table with direction\n",
    "rel_to_target = (\n",
    "    pd.DataFrame({\"corr\": corr_to_target})\n",
    "    .assign(abs_corr=lambda d: d[\"corr\"].abs())\n",
    "    .assign(\n",
    "        direction=lambda d: np.where(\n",
    "            d[\"corr\"] >= 0, \"positive (direct)\", \"negative (inverse)\"\n",
    "        )\n",
    "    )\n",
    "    .sort_values(\"abs_corr\", ascending=False)\n",
    ")\n",
    "\n",
    "print(\n",
    "    f\"Number of numeric columns correlated with {target_col}: {rel_to_target.shape[0]}\"\n",
    ")\n",
    "rel_to_target.head(25)  # show the top 25 strongest relationships by absolute value\n",
    "\n",
    "# 5) (Optional) Save results to CSV for further inspection\n",
    "\n",
    "corr_all.to_csv(\"combined_correlation_matrix.csv\", index=True)\n",
    "rel_to_target.to_csv(\"MiNDAT_vs_CORRUCYSTIC_DENSITY.csv\", index=True)\n",
    "\n",
    "print(\"Saved:\")\n",
    "print(\" - combined_correlation_matrix.csv\")\n",
    "print(\" - MiNDAT_vs_CORRUCYSTIC_DENSITY.csv\")"
   ],
   "outputs": [
    {
     "name": "stdout",
     "output_type": "stream",
     "text": [
      "Combined correlation matrix shape: (48, 48)\n",
      "Number of numeric columns correlated with CORRUCYSTIC_DENSITY: 45\n",
      "Saved:\n",
      " - combined_correlation_matrix.csv\n",
      " - MiNDAT_vs_CORRUCYSTIC_DENSITY.csv\n"
     ]
    }
   ],
   "execution_count": 1
  },
  {
   "metadata": {},
   "cell_type": "markdown",
   "source": "# Univariate R² of each MiNDAT column vs CORRUCYSTIC_DENSITY",
   "id": "e6475df2f1b011a5"
  },
  {
   "metadata": {
    "ExecuteTime": {
     "end_time": "2025-08-29T15:51:27.150956Z",
     "start_time": "2025-08-29T15:51:26.007904Z"
    }
   },
   "cell_type": "code",
   "source": [
    "# R² of each MiNDAT column vs CORRUCYSTIC_DENSITY\n",
    "\n",
    "\n",
    "import pandas as pd\n",
    "import numpy as np\n",
    "\n",
    "# Adjust if needed\n",
    "path_mindat = \"MiNDAT.csv\"\n",
    "target_col = \"CORRUCYSTIC_DENSITY\"\n",
    "\n",
    "# Load\n",
    "df = pd.read_csv(path_mindat)\n",
    "\n",
    "\n",
    "# Coerce all object columns to numeric where possible (non-convertible -> NaN)\n",
    "def coerce_numeric(df: pd.DataFrame) -> pd.DataFrame:\n",
    "    out = df.copy()\n",
    "    for c in out.columns:\n",
    "        if out[c].dtype == object:\n",
    "            out[c] = pd.to_numeric(out[c], errors=\"coerce\")\n",
    "    return out\n",
    "\n",
    "\n",
    "df_num = coerce_numeric(df)\n",
    "\n",
    "if target_col not in df_num.columns:\n",
    "    raise KeyError(f\"Column {target_col!r} not found in {path_mindat}\")\n",
    "\n",
    "# Compute Pearson correlations (numeric only), square them to get univariate R²\n",
    "corr_series = df_num.corr(numeric_only=True, method=\"pearson\")[target_col]\n",
    "\n",
    "# Drop the target itself and any non-existent values\n",
    "corr_series = corr_series.drop(labels=[target_col], errors=\"ignore\").dropna()\n",
    "\n",
    "# Square to get R²\n",
    "r2_series = corr_series.pow(2).rename(\"R2\")\n",
    "\n",
    "# Optionally exclude ID-like columns if they’re numeric\n",
    "r2_series = r2_series.drop(labels=[\"LOCAL_IDENTIFIER\"], errors=\"ignore\")\n",
    "\n",
    "# Sort by strongest R²\n",
    "r2_sorted = r2_series.sort_values(ascending=False)\n",
    "\n",
    "# Show top results\n",
    "print(f\"Computed R² against '{target_col}' for {r2_sorted.shape[0]} numeric features.\")\n",
    "display(r2_sorted.head(25))\n",
    "\n",
    "# Save full ranking\n",
    "out_csv = \"MiNDAT_univariate_R2_vs_CORRUCYSTIC_DENSITY.csv\"\n",
    "r2_sorted.to_csv(out_csv, header=True)\n",
    "print(f\"Saved: {out_csv}\")"
   ],
   "id": "554cc95f888243d8",
   "outputs": [
    {
     "name": "stdout",
     "output_type": "stream",
     "text": [
      "Computed R² against 'CORRUCYSTIC_DENSITY' for 43 numeric features.\n"
     ]
    },
    {
     "data": {
      "text/plain": [
       "T\\!          0.000332\n",
       "b1oRb13      0.000275\n",
       "~7*          0.000269\n",
       "jNhEum       0.000236\n",
       "i]7V         0.000230\n",
       ".6AvGp       0.000147\n",
       "!;@Jw        0.000131\n",
       "Z~x0<k       0.000115\n",
       "r1Ng         0.000109\n",
       "|G}          0.000105\n",
       "3I\\y         0.000102\n",
       "fPqsI        0.000100\n",
       ">?64:        0.000084\n",
       "14W$Q        0.000084\n",
       "]xq          0.000083\n",
       "ZVf          0.000064\n",
       ";<\"<i(T      0.000062\n",
       "b2oRb13      0.000059\n",
       ".o<m         0.000059\n",
       "U\"r          0.000058\n",
       "PZ8          0.000043\n",
       "Jv[i         0.000043\n",
       "w-u:jN'qI    0.000043\n",
       "^%a;         0.000041\n",
       "%IiL7w       0.000031\n",
       "Name: R2, dtype: float64"
      ]
     },
     "metadata": {},
     "output_type": "display_data"
    },
    {
     "name": "stdout",
     "output_type": "stream",
     "text": [
      "Saved: MiNDAT_univariate_R2_vs_CORRUCYSTIC_DENSITY.csv\n"
     ]
    }
   ],
   "execution_count": 1
  }
 ],
 "metadata": {
  "kernelspec": {
   "display_name": "Python 3",
   "language": "python",
   "name": "python3"
  },
  "language_info": {
   "codemirror_mode": {
    "name": "ipython",
    "version": 2
   },
   "file_extension": ".py",
   "mimetype": "text/x-python",
   "name": "python",
   "nbconvert_exporter": "python",
   "pygments_lexer": "ipython2",
   "version": "2.7.6"
  }
 },
 "nbformat": 4,
 "nbformat_minor": 5
}
