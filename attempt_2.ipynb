{
 "cells": [
  {
   "metadata": {},
   "cell_type": "markdown",
   "source": "After Grid search failed many times, I decided to manually tune the hyperparameters of the RandomForestRegressor model.",
   "id": "5f06f6dd340d176a"
  },
  {
   "cell_type": "code",
   "execution_count": null,
   "id": "initial_id",
   "metadata": {
    "collapsed": true
   },
   "outputs": [],
   "source": [
    "import pandas as pd\n",
    "from sklearn.ensemble import RandomForestRegressor\n",
    "from sklearn.preprocessing import StandardScaler\n",
    "\n",
    "train = pd.read_csv(\"MiNDAT.csv\")\n",
    "test = pd.read_csv(\"MiNDAT_UNK.csv\")\n",
    "\n",
    "# Issue: Using mean imputation may distort skewed data; switched to median for robustness\n",
    "train.fillna(train.median(numeric_only=True), inplace=True)\n",
    "test.fillna(train.median(numeric_only=True), inplace=True)\n",
    "\n",
    "X_train = train.drop([\"CORRUCYSTIC_DENSITY\", \"LOCAL_IDENTIFIER\"], axis=1)\n",
    "X_train = X_train.select_dtypes(include=[\"float64\", \"int64\"])\n",
    "\n",
    "X_train.fillna(X_train.median(numeric_only=True), inplace=True)\n",
    "\n",
    "y_train = train[\"CORRUCYSTIC_DENSITY\"]\n",
    "\n",
    "X_test = test.drop([\"LOCAL_IDENTIFIER\"], axis=1)\n",
    "\n",
    "# Update: Reindex with train columns, filling missing columns with 0 for safety\n",
    "X_test = X_test.reindex(columns=X_train.columns, fill_value=0)\n",
    "\n",
    "X_test.fillna(X_train.median(numeric_only=True), inplace=True)\n",
    "\n",
    "scaler = StandardScaler()\n",
    "X_train_scaled = scaler.fit_transform(X_train)\n",
    "X_test_scaled = scaler.transform(X_test)\n",
    "\n",
    "# Original:\n",
    "# model = RandomForestRegressor(\n",
    "#     n_estimators=300,\n",
    "#     max_depth=12,\n",
    "#     min_samples_split=4,\n",
    "#     random_state=42,\n",
    "#     n_jobs=-1\n",
    "# )\n",
    "model = RandomForestRegressor(\n",
    "    n_estimators=400,  # Increased trees for better stability\n",
    "    max_depth=15,  # Slightly deeper trees for complexity\n",
    "    min_samples_split=4,\n",
    "    min_samples_leaf=2,  # Added to avoid overfitting small leaf nodes\n",
    "    random_state=42,\n",
    "    n_jobs=-1,\n",
    ")\n",
    "\n",
    "model.fit(X_train_scaled, y_train)\n",
    "\n",
    "preds = model.predict(X_test_scaled)\n",
    "\n",
    "output = pd.DataFrame(\n",
    "    {\n",
    "        \"LOCAL_IDENTIFIER\": test[\"LOCAL_IDENTIFIER\"],\n",
    "        \"CORRUCYSTIC_DENSITY\": pd.Series(preds),\n",
    "    }\n",
    ")\n",
    "\n",
    "output.to_csv(\"corrucystic_density_predictions5.csv\", index=False)"
   ]
  }
 ],
 "metadata": {
  "kernelspec": {
   "display_name": "Python 3",
   "language": "python",
   "name": "python3"
  },
  "language_info": {
   "codemirror_mode": {
    "name": "ipython",
    "version": 2
   },
   "file_extension": ".py",
   "mimetype": "text/x-python",
   "name": "python",
   "nbconvert_exporter": "python",
   "pygments_lexer": "ipython2",
   "version": "2.7.6"
  }
 },
 "nbformat": 4,
 "nbformat_minor": 5
}
